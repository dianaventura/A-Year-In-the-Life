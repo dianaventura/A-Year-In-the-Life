{
  "nbformat": 4,
  "nbformat_minor": 0,
  "metadata": {
    "kernelspec": {
      "display_name": "Python 3",
      "language": "python",
      "name": "python3"
    },
    "language_info": {
      "codemirror_mode": {
        "name": "ipython",
        "version": 3
      },
      "file_extension": ".py",
      "mimetype": "text/x-python",
      "name": "python",
      "nbconvert_exporter": "python",
      "pygments_lexer": "ipython3",
      "version": "3.7.4"
    },
    "colab": {
      "provenance": [],
      "include_colab_link": true
    },
    "accelerator": "GPU"
  },
  "cells": [
    {
      "cell_type": "markdown",
      "metadata": {
        "id": "view-in-github",
        "colab_type": "text"
      },
      "source": [
        "<a href=\"https://colab.research.google.com/github/dianaventura/Defining-Success/blob/main/Keras_CNN_IMDB.ipynb\" target=\"_parent\"><img src=\"https://colab.research.google.com/assets/colab-badge.svg\" alt=\"Open In Colab\"/></a>"
      ]
    },
    {
      "cell_type": "markdown",
      "metadata": {
        "id": "z6_tn40wr6r_"
      },
      "source": [
        "# CNN for IMDB Dataset\n",
        "\n",
        "In this notebook, we will demonstrate how to use keras to create, train and evaluate your own CNN algorithm on the imdb movie reviews dataset.\n"
      ]
    },
    {
      "cell_type": "code",
      "metadata": {
        "id": "2qK0TlLEr6sF"
      },
      "source": [
        "import numpy as np\n",
        "import pandas as pd\n",
        "from matplotlib import pyplot\n",
        "\n",
        "import keras\n",
        "#Import sequence preprocessing methods\n",
        "from keras.preprocessing import sequence\n",
        "\n",
        "#Import the sequential architecture\n",
        "from keras.models import Sequential\n",
        "\n",
        "#Import the different layers needed to create a CNN\n",
        "#First, import your convolutional and max pooling layers\n",
        "from keras.layers import Conv1D, GlobalMaxPooling1D, BatchNormalization, Flatten\n",
        "#Next, we import the dense (fully-connected) and embedding layers\n",
        "from keras.layers import Dense, Embedding\n",
        "#Finally, import your layer activations and regulizers - in this case, dropout and activation functions\n",
        "from keras.layers import Dropout, Activation\n",
        "\n",
        "from tensorflow.keras.utils import to_categorical\n",
        "\n",
        "#Keras offers us the ability to import datasets directly into our code using a number of presets.\n",
        "#We can import all the datasets at once, but it consumes memory, so its better to import only the required one.\n",
        "from keras.datasets import imdb"
      ],
      "execution_count": null,
      "outputs": []
    },
    {
      "cell_type": "code",
      "metadata": {
        "id": "7LubwJEyr6sI"
      },
      "source": [
        "np.random.seed(1) #for reproducibility"
      ],
      "execution_count": null,
      "outputs": []
    },
    {
      "cell_type": "markdown",
      "metadata": {
        "id": "2tu9ve2Ar6sJ"
      },
      "source": [
        "# Load the Dataset\n",
        "Unlike in some of our previous labs, Keras will handle the loading and splitting of the dataset for us in a single function call. This split is static (i.e. it does not change between runs) and is already stratified. If you want to design your own split, or use an evaluation methodology (such as cross-fold-validation or hold out) on your data, then additional work will be required.\n",
        "\n",
        "In this lab we will use the supplied Keras split, but you should keep the above in mind for your coursework."
      ]
    },
    {
      "cell_type": "markdown",
      "metadata": {
        "id": "j0v7GaE5r6sJ"
      },
      "source": [
        "Dataset of 25,000 movies reviews from IMDB, labeled by sentiment (positive/negative). Reviews have been preprocessed, and each review is encoded as a sequence of word indexes (integers). For convenience, words are indexed by overall frequency in the dataset, so that for instance the integer \"3\" encodes the 3rd most frequent word in the data. This allows for quick filtering operations such as: \"only consider the top 10,000 most common words, but eliminate the top 20 most common words\".\n",
        "\n",
        "\n",
        "That dictionary that is inverted when using load_data assumes the word indices start from 1.\n",
        "\n",
        "Keras uses index \"0\" to encode any unknown word; index 1 and 2 to mark the START of a sentence and any out of vocabulary (oov_char ) words such as stop words.\n",
        "Also oov_char replaces words that were cut out because of the num_words or skip_top limit.\n",
        "The parameter index_from parameter can be used to miss out these extra indexed word annotates.\n",
        "\n",
        "See [keras.datasets.imdb.load_data](https://keras.io/datasets/#imdb-movie-reviews-sentiment-classification ) method they explain what is being loaded.\n",
        "\n",
        "So basically the representation has already removed stop words and most of the puntuation and less frequent words are removed from text during preprocessing.\n",
        "\n",
        "It returns 2 tuples:\n",
        "- x_train, x_test: list of sequences, which are lists of indexes (integers). If the num_words argument was specified, the maximum possible index value is num_words-1. If the maxlen argument was specified, the largest possible sequence length is maxlen.\n",
        "- y_train, y_test: list of integer labels (1 or 0)."
      ]
    },
    {
      "cell_type": "code",
      "metadata": {
        "id": "ewbPI0RHr6sK",
        "colab": {
          "base_uri": "https://localhost:8080/"
        },
        "outputId": "f0412f0e-b1a2-4609-80f1-4d5fbd9c1467"
      },
      "source": [
        "MAX_FEATURES=1000 # only use top occuring 1000 words\n",
        "INDEX_FROM =3   # word index offset\n",
        "\n",
        "# # modify the default parameters of np.load\n",
        "# np_load_old = np.load\n",
        "# np.load = lambda *a,**k: np_load_old(*a, allow_pickle=True, **k)\n",
        "# #Load the dataset, and print the length of the train and test sets.\n",
        "# print('Loading data...')\n",
        "\n",
        "(X_train, y_train), (X_test, y_test) = imdb.load_data(num_words=MAX_FEATURES, index_from=INDEX_FROM)\n",
        "print('An example looks like this:')\n",
        "print(X_train[0])\n",
        "print('An example class label vector looks like this:', y_train[0])\n",
        "print(X_train.shape, 'train sequences')\n",
        "print(X_test.shape, 'test sequences')\n",
        "\n",
        "# # restore np.load for future normal usage\n",
        "# np.load = np_load_old"
      ],
      "execution_count": null,
      "outputs": [
        {
          "output_type": "stream",
          "name": "stdout",
          "text": [
            "Downloading data from https://storage.googleapis.com/tensorflow/tf-keras-datasets/imdb.npz\n",
            "17464789/17464789 [==============================] - 2s 0us/step\n",
            "An example looks like this:\n",
            "[1, 14, 22, 16, 43, 530, 973, 2, 2, 65, 458, 2, 66, 2, 4, 173, 36, 256, 5, 25, 100, 43, 838, 112, 50, 670, 2, 9, 35, 480, 284, 5, 150, 4, 172, 112, 167, 2, 336, 385, 39, 4, 172, 2, 2, 17, 546, 38, 13, 447, 4, 192, 50, 16, 6, 147, 2, 19, 14, 22, 4, 2, 2, 469, 4, 22, 71, 87, 12, 16, 43, 530, 38, 76, 15, 13, 2, 4, 22, 17, 515, 17, 12, 16, 626, 18, 2, 5, 62, 386, 12, 8, 316, 8, 106, 5, 4, 2, 2, 16, 480, 66, 2, 33, 4, 130, 12, 16, 38, 619, 5, 25, 124, 51, 36, 135, 48, 25, 2, 33, 6, 22, 12, 215, 28, 77, 52, 5, 14, 407, 16, 82, 2, 8, 4, 107, 117, 2, 15, 256, 4, 2, 7, 2, 5, 723, 36, 71, 43, 530, 476, 26, 400, 317, 46, 7, 4, 2, 2, 13, 104, 88, 4, 381, 15, 297, 98, 32, 2, 56, 26, 141, 6, 194, 2, 18, 4, 226, 22, 21, 134, 476, 26, 480, 5, 144, 30, 2, 18, 51, 36, 28, 224, 92, 25, 104, 4, 226, 65, 16, 38, 2, 88, 12, 16, 283, 5, 16, 2, 113, 103, 32, 15, 16, 2, 19, 178, 32]\n",
            "An example class label vector looks like this: 1\n",
            "(25000,) train sequences\n",
            "(25000,) test sequences\n"
          ]
        }
      ]
    },
    {
      "cell_type": "markdown",
      "metadata": {
        "id": "g80PQ52or6sM"
      },
      "source": [
        "## How can we view the raw text?\n",
        "Since the load method provides the already indexed IDs of the word and not the raw words we can use word_to_id method to return the actual word from its index value."
      ]
    },
    {
      "cell_type": "code",
      "metadata": {
        "id": "qxRgnNAer6sM",
        "colab": {
          "base_uri": "https://localhost:8080/"
        },
        "outputId": "04142c2b-8223-4e85-b54e-763ab3e6cbdc"
      },
      "source": [
        "# A dictionary mapping words to an integer index\n",
        "word_to_id = keras.datasets.imdb.get_word_index()\n",
        "word_to_id = {k:(v+INDEX_FROM) for k,v in word_to_id.items()}\n",
        "\n",
        "# The first indices are reserved\n",
        "word_to_id[\"<PAD>\"] = 0\n",
        "word_to_id[\"<START>\"] = 1\n",
        "word_to_id[\"<OOV>\"] = 2 #out of vocabulary (less frequent)\n",
        "\n",
        "id_to_word = {value:key for key,value in word_to_id.items()}\n",
        "print('An example review reconstructed from the index:')\n",
        "print(' '.join(id_to_word[id] for id in X_train[0] ))"
      ],
      "execution_count": null,
      "outputs": [
        {
          "output_type": "stream",
          "name": "stdout",
          "text": [
            "Downloading data from https://storage.googleapis.com/tensorflow/tf-keras-datasets/imdb_word_index.json\n",
            "1641221/1641221 [==============================] - 1s 1us/step\n",
            "An example review reconstructed from the index:\n",
            "<START> this film was just brilliant casting <OOV> <OOV> story direction <OOV> really <OOV> the part they played and you could just imagine being there robert <OOV> is an amazing actor and now the same being director <OOV> father came from the same <OOV> <OOV> as myself so i loved the fact there was a real <OOV> with this film the <OOV> <OOV> throughout the film were great it was just brilliant so much that i <OOV> the film as soon as it was released for <OOV> and would recommend it to everyone to watch and the <OOV> <OOV> was amazing really <OOV> at the end it was so sad and you know what they say if you <OOV> at a film it must have been good and this definitely was also <OOV> to the two little <OOV> that played the <OOV> of <OOV> and paul they were just brilliant children are often left out of the <OOV> <OOV> i think because the stars that play them all <OOV> up are such a big <OOV> for the whole film but these children are amazing and should be <OOV> for what they have done don't you think the whole story was so <OOV> because it was true and was <OOV> life after all that was <OOV> with us all\n"
          ]
        }
      ]
    },
    {
      "cell_type": "markdown",
      "metadata": {
        "id": "vkj1EsdBr6sN"
      },
      "source": [
        "## Get Vocabulary and max length stats"
      ]
    },
    {
      "cell_type": "code",
      "metadata": {
        "id": "MvHa9Pt1r6sN",
        "colab": {
          "base_uri": "https://localhost:8080/"
        },
        "outputId": "cfc60019-db23-441b-e51c-6c2d3fb396c8"
      },
      "source": [
        "X = np.concatenate((X_train, X_test), axis=0)\n",
        "y = np.concatenate((y_train, y_test), axis=0)\n",
        "\n",
        "# summarize size\n",
        "print(\"Training data: \")\n",
        "print(X.shape)\n",
        "print(y.shape)"
      ],
      "execution_count": null,
      "outputs": [
        {
          "output_type": "stream",
          "name": "stdout",
          "text": [
            "Training data: \n",
            "(50000,)\n",
            "(50000,)\n"
          ]
        }
      ]
    },
    {
      "cell_type": "code",
      "metadata": {
        "id": "hF0QULKlr6sN",
        "colab": {
          "base_uri": "https://localhost:8080/"
        },
        "outputId": "bf5bcef4-634b-4c64-806d-1564314d9cc0"
      },
      "source": [
        "# Summarize number of classes\n",
        "print(\"Classes: \")\n",
        "print(np.unique(y))"
      ],
      "execution_count": null,
      "outputs": [
        {
          "output_type": "stream",
          "name": "stdout",
          "text": [
            "Classes: \n",
            "[0 1]\n"
          ]
        }
      ]
    },
    {
      "cell_type": "code",
      "metadata": {
        "id": "9BPXPGupr6sO",
        "colab": {
          "base_uri": "https://localhost:8080/"
        },
        "outputId": "39e9cfc3-90b0-49ee-8011-acd818eb47c1"
      },
      "source": [
        "# Summarize number of words\n",
        "print(\"Number of words: \")\n",
        "print(len(np.unique(np.hstack(X))))"
      ],
      "execution_count": null,
      "outputs": [
        {
          "output_type": "stream",
          "name": "stdout",
          "text": [
            "Number of words: \n",
            "998\n"
          ]
        }
      ]
    },
    {
      "cell_type": "markdown",
      "metadata": {
        "id": "42P9x2aqr6sO"
      },
      "source": [
        "Finally, we can get an idea of the average review length."
      ]
    },
    {
      "cell_type": "code",
      "metadata": {
        "id": "WpWC6tdfr6sO",
        "colab": {
          "base_uri": "https://localhost:8080/",
          "height": 465
        },
        "outputId": "acae7d1b-0dfb-4526-e897-cf18c359ef75"
      },
      "source": [
        "# Summarize review length\n",
        "print(\"Review length: \")\n",
        "result = [len(x) for x in X]\n",
        "print(\"Mean %.2f words (%f) in a review\" % (np.mean(result), np.std(result)))\n",
        "# plot review length\n",
        "pyplot.boxplot(result)\n",
        "pyplot.show()"
      ],
      "execution_count": null,
      "outputs": [
        {
          "output_type": "stream",
          "name": "stdout",
          "text": [
            "Review length: \n",
            "Mean 234.76 words (172.911495) in a review\n"
          ]
        },
        {
          "output_type": "display_data",
          "data": {
            "text/plain": [
              "<Figure size 640x480 with 1 Axes>"
            ],
            "image/png": "[encoded data removed]"
          },
          "metadata": {}
        }
      ]
    },
    {
      "cell_type": "markdown",
      "metadata": {
        "id": "DbQ-c7bFr6sO"
      },
      "source": [
        "Looking at a box and whisker plot for the review lengths in words, we can probably see an exponential distribution that we can probably cover the mass of the distribution with a clipped length of 400 to 500 words."
      ]
    },
    {
      "cell_type": "markdown",
      "metadata": {
        "id": "UwDvCA7hr6sO"
      },
      "source": [
        "## Pad the Dataset"
      ]
    },
    {
      "cell_type": "markdown",
      "metadata": {
        "id": "_UqVIjH3r6sP"
      },
      "source": [
        "\n",
        "After we have loaded the dataset, we need to pad it so that all examples are the same size for submission to the network. We can do that by using a function in Keras.\n",
        "Here we will bound reviews at maxlen words, truncating longer reviews and zero-padding shorter reviews.\n",
        "\n",
        "Note that padding will not be needed if you are using sparse representatsions such as from a tfidf vectoriser.\n"
      ]
    },
    {
      "cell_type": "code",
      "metadata": {
        "id": "pQOeHslpr6sP",
        "colab": {
          "base_uri": "https://localhost:8080/"
        },
        "outputId": "124cb686-a159-4590-8362-fc6b8c82549b"
      },
      "source": [
        "# set parameters\n",
        "maxlen = 400\n",
        "\n",
        "#Find the max example size and ensure that all other examples are padded to this size\n",
        "print('Pad sequences (samples x time)')\n",
        "X_train = sequence.pad_sequences(X_train, maxlen=maxlen)\n",
        "X_test = sequence.pad_sequences(X_test, maxlen=maxlen)\n",
        "\n",
        "#Print the data's shape (i.e. the size of each dimension) to check this is done correctly.\n",
        "print('x_train shape:', X_train.shape)\n",
        "print('x_test shape:', X_test.shape)\n",
        "print('After padding the example looks:')\n",
        "print(X_train[0])\n",
        "\n",
        "num_classes = len(np.unique(y))\n",
        "# convert class labels to binary class one-hot-encoded vectors\n",
        "y_train_ohe = to_categorical(y_train, num_classes)\n",
        "y_test_ohe = to_categorical(y_test, num_classes)"
      ],
      "execution_count": null,
      "outputs": [
        {
          "output_type": "stream",
          "name": "stdout",
          "text": [
            "Pad sequences (samples x time)\n",
            "x_train shape: (25000, 400)\n",
            "x_test shape: (25000, 400)\n",
            "After padding the example looks:\n",
            "[  0   0   0   0   0   0   0   0   0   0   0   0   0   0   0   0   0   0\n",
            "   0   0   0   0   0   0   0   0   0   0   0   0   0   0   0   0   0   0\n",
            "   0   0   0   0   0   0   0   0   0   0   0   0   0   0   0   0   0   0\n",
            "   0   0   0   0   0   0   0   0   0   0   0   0   0   0   0   0   0   0\n",
            "   0   0   0   0   0   0   0   0   0   0   0   0   0   0   0   0   0   0\n",
            "   0   0   0   0   0   0   0   0   0   0   0   0   0   0   0   0   0   0\n",
            "   0   0   0   0   0   0   0   0   0   0   0   0   0   0   0   0   0   0\n",
            "   0   0   0   0   0   0   0   0   0   0   0   0   0   0   0   0   0   0\n",
            "   0   0   0   0   0   0   0   0   0   0   0   0   0   0   0   0   0   0\n",
            "   0   0   0   0   0   0   0   0   0   0   0   0   0   0   0   0   0   0\n",
            "   0   0   1  14  22  16  43 530 973   2   2  65 458   2  66   2   4 173\n",
            "  36 256   5  25 100  43 838 112  50 670   2   9  35 480 284   5 150   4\n",
            " 172 112 167   2 336 385  39   4 172   2   2  17 546  38  13 447   4 192\n",
            "  50  16   6 147   2  19  14  22   4   2   2 469   4  22  71  87  12  16\n",
            "  43 530  38  76  15  13   2   4  22  17 515  17  12  16 626  18   2   5\n",
            "  62 386  12   8 316   8 106   5   4   2   2  16 480  66   2  33   4 130\n",
            "  12  16  38 619   5  25 124  51  36 135  48  25   2  33   6  22  12 215\n",
            "  28  77  52   5  14 407  16  82   2   8   4 107 117   2  15 256   4   2\n",
            "   7   2   5 723  36  71  43 530 476  26 400 317  46   7   4   2   2  13\n",
            " 104  88   4 381  15 297  98  32   2  56  26 141   6 194   2  18   4 226\n",
            "  22  21 134 476  26 480   5 144  30   2  18  51  36  28 224  92  25 104\n",
            "   4 226  65  16  38   2  88  12  16 283   5  16   2 113 103  32  15  16\n",
            "   2  19 178  32]\n"
          ]
        }
      ]
    },
    {
      "cell_type": "markdown",
      "metadata": {
        "id": "veTX4e1Fr6sP"
      },
      "source": [
        "Recreate the textual content after the padding has been added. You can use the word_to_id method as we did before."
      ]
    },
    {
      "cell_type": "code",
      "metadata": {
        "id": "WduGiiR9o1I7",
        "colab": {
          "base_uri": "https://localhost:8080/"
        },
        "outputId": "871059da-b3dd-4071-a6e2-3647962b9cff"
      },
      "source": [
        "id_to_word = {value:key for key,value in word_to_id.items()}\n",
        "print(' '.join(id_to_word[id] for id in X_train[0] ))"
      ],
      "execution_count": null,
      "outputs": [
        {
          "output_type": "stream",
          "name": "stdout",
          "text": [
            "<PAD> <PAD> <PAD> <PAD> <PAD> <PAD> <PAD> <PAD> <PAD> <PAD> <PAD> <PAD> <PAD> <PAD> <PAD> <PAD> <PAD> <PAD> <PAD> <PAD> <PAD> <PAD> <PAD> <PAD> <PAD> <PAD> <PAD> <PAD> <PAD> <PAD> <PAD> <PAD> <PAD> <PAD> <PAD> <PAD> <PAD> <PAD> <PAD> <PAD> <PAD> <PAD> <PAD> <PAD> <PAD> <PAD> <PAD> <PAD> <PAD> <PAD> <PAD> <PAD> <PAD> <PAD> <PAD> <PAD> <PAD> <PAD> <PAD> <PAD> <PAD> <PAD> <PAD> <PAD> <PAD> <PAD> <PAD> <PAD> <PAD> <PAD> <PAD> <PAD> <PAD> <PAD> <PAD> <PAD> <PAD> <PAD> <PAD> <PAD> <PAD> <PAD> <PAD> <PAD> <PAD> <PAD> <PAD> <PAD> <PAD> <PAD> <PAD> <PAD> <PAD> <PAD> <PAD> <PAD> <PAD> <PAD> <PAD> <PAD> <PAD> <PAD> <PAD> <PAD> <PAD> <PAD> <PAD> <PAD> <PAD> <PAD> <PAD> <PAD> <PAD> <PAD> <PAD> <PAD> <PAD> <PAD> <PAD> <PAD> <PAD> <PAD> <PAD> <PAD> <PAD> <PAD> <PAD> <PAD> <PAD> <PAD> <PAD> <PAD> <PAD> <PAD> <PAD> <PAD> <PAD> <PAD> <PAD> <PAD> <PAD> <PAD> <PAD> <PAD> <PAD> <PAD> <PAD> <PAD> <PAD> <PAD> <PAD> <PAD> <PAD> <PAD> <PAD> <PAD> <PAD> <PAD> <PAD> <PAD> <PAD> <PAD> <PAD> <PAD> <PAD> <PAD> <PAD> <PAD> <PAD> <PAD> <PAD> <PAD> <PAD> <PAD> <PAD> <PAD> <PAD> <PAD> <PAD> <PAD> <PAD> <PAD> <START> this film was just brilliant casting <OOV> <OOV> story direction <OOV> really <OOV> the part they played and you could just imagine being there robert <OOV> is an amazing actor and now the same being director <OOV> father came from the same <OOV> <OOV> as myself so i loved the fact there was a real <OOV> with this film the <OOV> <OOV> throughout the film were great it was just brilliant so much that i <OOV> the film as soon as it was released for <OOV> and would recommend it to everyone to watch and the <OOV> <OOV> was amazing really <OOV> at the end it was so sad and you know what they say if you <OOV> at a film it must have been good and this definitely was also <OOV> to the two little <OOV> that played the <OOV> of <OOV> and paul they were just brilliant children are often left out of the <OOV> <OOV> i think because the stars that play them all <OOV> up are such a big <OOV> for the whole film but these children are amazing and should be <OOV> for what they have done don't you think the whole story was so <OOV> because it was true and was <OOV> life after all that was <OOV> with us all\n"
          ]
        }
      ]
    },
    {
      "cell_type": "markdown",
      "metadata": {
        "id": "dth38DR-r6sQ"
      },
      "source": [
        "# Creating the CNN Architecture\n",
        "Now lets create a CNN model. We need to identify several things at this stage:\n",
        "\n",
        "(1) The parameters of our model (i.e. the hyperparameters of the CNN)\n",
        "\n",
        "(2) The architecture of our model (i.e. the layers of the CNN)\n",
        "\n",
        "Firstly lets define the architecture of the model by creating the layers."
      ]
    },
    {
      "cell_type": "code",
      "metadata": {
        "id": "UJxwXsCzr6sQ"
      },
      "source": [
        "def create_model(max_features = 1000, embedding_dims = 50,  maxlen = 400):\n",
        "    #Firstly, instantiate a sequential model\n",
        "    model = Sequential()\n",
        "\n",
        "    #We can now add layers to this model.\n",
        "    #Layers are added in the order of Input -> Output (meaning that they are sequential hence the name).\n",
        "    #Start off with an efficient embedding layer which maps vocab indices into embedding_dims dimensions\n",
        "    #max_features is the same as vocabulary size defined above\n",
        "    model.add(Embedding(max_features, embedding_dims, input_length=maxlen))\n",
        "\n",
        "    #Add a Convolution1D, which will learn filters\n",
        "    model.add(Conv1D(256, 3, padding='valid', activation='relu', strides=1))\n",
        "\n",
        "    #Add Batch Normalisation to avoid over-fitting\n",
        "    model.add(BatchNormalization())\n",
        "\n",
        "    #The use max pooling:\n",
        "    model.add(GlobalMaxPooling1D())\n",
        "\n",
        "    #Add a hidden layer:\n",
        "    model.add(Dense(128, activation='relu'))\n",
        "\n",
        "    #With batch normalisation\n",
        "    model.add(BatchNormalization())\n",
        "\n",
        "    #Project onto a two unit output layer; two for the pos, neg class set\n",
        "    model.add(Dense(num_classes, activation='softmax'))\n",
        "    return model"
      ],
      "execution_count": null,
      "outputs": []
    },
    {
      "cell_type": "markdown",
      "metadata": {
        "id": "Vdlxe4ctr6sQ"
      },
      "source": [
        "### Create the Model"
      ]
    },
    {
      "cell_type": "code",
      "metadata": {
        "id": "n-ftfLEGr6sQ",
        "colab": {
          "base_uri": "https://localhost:8080/"
        },
        "outputId": "82078770-1279-4a28-a162-d5a2084e4fe2"
      },
      "source": [
        "#Firstly, lets create our model by calling the function we just made\n",
        "cnn = create_model()\n",
        "cnn.summary()"
      ],
      "execution_count": null,
      "outputs": [
        {
          "output_type": "stream",
          "name": "stdout",
          "text": [
            "Model: \"sequential\"\n",
            "_________________________________________________________________\n",
            " Layer (type)                Output Shape              Param #   \n",
            "=================================================================\n",
            " embedding (Embedding)       (None, 400, 50)           50000     \n",
            "                                                                 \n",
            " conv1d (Conv1D)             (None, 398, 256)          38656     \n",
            "                                                                 \n",
            " batch_normalization (Batch  (None, 398, 256)          1024      \n",
            " Normalization)                                                  \n",
            "                                                                 \n",
            " global_max_pooling1d (Glob  (None, 256)               0         \n",
            " alMaxPooling1D)                                                 \n",
            "                                                                 \n",
            " dense (Dense)               (None, 128)               32896     \n",
            "                                                                 \n",
            " batch_normalization_1 (Bat  (None, 128)               512       \n",
            " chNormalization)                                                \n",
            "                                                                 \n",
            " dense_1 (Dense)             (None, 2)                 258       \n",
            "                                                                 \n",
            "=================================================================\n",
            "Total params: 123346 (481.82 KB)\n",
            "Trainable params: 122578 (478.82 KB)\n",
            "Non-trainable params: 768 (3.00 KB)\n",
            "_________________________________________________________________\n"
          ]
        }
      ]
    },
    {
      "cell_type": "markdown",
      "metadata": {
        "id": "onvrKHGQr6sQ"
      },
      "source": [
        "### Training the model\n",
        "Now that we have a function to create our model, we can apply the training hyperparameters to it."
      ]
    },
    {
      "cell_type": "code",
      "metadata": {
        "id": "OgiVN996r6sR"
      },
      "source": [
        "#Now lets state the hyperparameters as variables\n",
        "batch_size = 128\n",
        "epochs = 10 # try 1 epoch at first\n",
        "\n",
        "#Loss dictates what function we should use to determine the error\n",
        "loss = 'binary_crossentropy'\n",
        "\n",
        "#The optimizer is the function which controls how that error is applied to the network\n",
        "optimizer = 'adam'"
      ],
      "execution_count": null,
      "outputs": []
    },
    {
      "cell_type": "code",
      "metadata": {
        "id": "l427jI0Hr6sR"
      },
      "source": [
        "#Now we can compile and train our model\n",
        "cnn.compile(loss = loss,  optimizer = optimizer, metrics = ['accuracy'])"
      ],
      "execution_count": null,
      "outputs": []
    },
    {
      "cell_type": "code",
      "metadata": {
        "id": "meVPEWWahJr8"
      },
      "source": [
        "#The 'fit' function will train on your data, and evaluate the accuracy of its performance on the test set at each epoch\n",
        "#First call the function and specify training data\n",
        "history = cnn.fit(X_train, y_train_ohe,\n",
        "        #The identify the batch size\n",
        "        batch_size = batch_size,\n",
        "        #Specify your epochs\n",
        "        epochs = epochs,\n",
        "        #And identify your evaluation data (remember to put brackets around both x_test and y_test)\n",
        "        validation_data = (X_test, y_test_ohe))\n",
        "\n",
        "#note in general evaluation dataset should not be the test set"
      ],
      "execution_count": null,
      "outputs": []
    },
    {
      "cell_type": "markdown",
      "metadata": {
        "id": "ygtEbIxGr6sR"
      },
      "source": [
        "### Evaluate on test set"
      ]
    },
    {
      "cell_type": "code",
      "metadata": {
        "id": "httjOJzSr6sR"
      },
      "source": [
        "score = cnn.evaluate(X_test, y_test_ohe, verbose=False)\n",
        "print(\"Testing Accuracy:  {:.4f}\".format(score[1]))"
      ],
      "execution_count": null,
      "outputs": []
    },
    {
      "cell_type": "markdown",
      "metadata": {
        "id": "v1-BalLJr6sT"
      },
      "source": [
        "Lets create helper function to visualize the loss and accuracy for the training and testing data based on the History callback. This callback, which is automatically applied to each Keras model, records the loss and additional metrics that can be added in the .fit() method. In this case, we are only interested in the accuracy. This helper function employs the matplotlib plotting library:"
      ]
    },
    {
      "cell_type": "code",
      "metadata": {
        "id": "T4rbJnRXr6sV"
      },
      "source": [
        "import matplotlib.pyplot as plt\n",
        "plt.style.use('ggplot')\n",
        "\n",
        "def plot_history(history):\n",
        "    acc = history.history['accuracy']\n",
        "    val_acc = history.history['val_accuracy']\n",
        "    loss = history.history['loss']\n",
        "    val_loss = history.history['val_loss']\n",
        "    x = range(1, len(acc) + 1)\n",
        "\n",
        "    plt.figure(figsize=(12, 5))\n",
        "    plt.subplot(1, 2, 1)\n",
        "    plt.plot(x, acc, 'b', label='Training acc')\n",
        "    plt.plot(x, val_acc, 'r', label='Validation acc')\n",
        "    plt.title('Training and validation accuracy')\n",
        "    plt.legend()\n",
        "    plt.subplot(1, 2, 2)\n",
        "    plt.plot(x, loss, 'b', label='Training loss')\n",
        "    plt.plot(x, val_loss, 'r', label='Validation loss')\n",
        "    plt.title('Training and validation loss')\n",
        "    plt.legend()"
      ],
      "execution_count": null,
      "outputs": []
    },
    {
      "cell_type": "code",
      "metadata": {
        "id": "RTwFDSlSr6sV"
      },
      "source": [
        "plot_history(history)"
      ],
      "execution_count": null,
      "outputs": []
    },
    {
      "cell_type": "markdown",
      "metadata": {
        "id": "X37NZdoEr6sY"
      },
      "source": [
        "The above demonstrates clearly that there is over fitting since training accuracy is significantly better than test / validation.\n",
        "The sweet spot is around 1 or 2 epochs."
      ]
    },
    {
      "cell_type": "markdown",
      "metadata": {
        "id": "mHi7WfI1r6sY"
      },
      "source": [
        "# Creating and ANN Architecture"
      ]
    },
    {
      "cell_type": "code",
      "source": [
        "# max_features = 1000, embedding_dims = 50,  maxlen = 400\n",
        "model = Sequential()\n",
        "model.add (Embedding(1000, 50, input_length=400))\n",
        "model.add (Flatten())\n",
        "model.add (Dense (units = 1024, activation='relu'))\n",
        "model.add (Dense ( units = 128, activation='relu'))\n",
        "model.add (Dense ( units = 2, activation='softmax'))\n",
        "model.summary()"
      ],
      "metadata": {
        "id": "DxdPZ79lYDYp"
      },
      "execution_count": null,
      "outputs": []
    },
    {
      "cell_type": "code",
      "source": [
        "model.compile(loss='binary_crossentropy', optimizer='adam', metrics=['accuracy'])\n",
        "ann_history = model.fit(X_train, y_train_ohe, batch_size=128, epochs=10, validation_data = (X_test, y_test_ohe))\n",
        "score = model.evaluate(X_test, y_test_ohe)\n",
        "print('Total loss on the test set', score[0])\n",
        "print('Total accuracy on the test set', score[1])"
      ],
      "metadata": {
        "id": "s077DOLOYRIA"
      },
      "execution_count": null,
      "outputs": []
    },
    {
      "cell_type": "code",
      "source": [
        "plot_history(ann_history)"
      ],
      "metadata": {
        "id": "9j2OiM4OYWPz"
      },
      "execution_count": null,
      "outputs": []
    },
    {
      "cell_type": "markdown",
      "metadata": {
        "id": "DqyuY6KYr6sZ"
      },
      "source": [
        "# Preparing text from CSV files for a Keras model input\n",
        "\n",
        "Often we may want to read our data from a CSV and if it is text content them we want to santise that text for instance using regular expressions or stemming etc (as we did last week).\n",
        "Once that is done we need to convert it into a index vector that can be input.\n",
        "\n",
        "For this we make use of the keras tokeniser  and texts_to_sequence encoder.\n",
        "from keras.preprocessing.text import Tokenizer\n",
        "\n",
        "We look at how to do this next."
      ]
    },
    {
      "cell_type": "code",
      "metadata": {
        "id": "kPIKLuarr6sZ"
      },
      "source": [
        "import os\n",
        "import re"
      ],
      "execution_count": null,
      "outputs": []
    },
    {
      "cell_type": "code",
      "metadata": {
        "id": "bjsKBYKdr6sZ"
      },
      "source": [
        "# remove the non-word chars '[\\W]+'\n",
        "# append the emoticons to end\n",
        "# convert all to lowercase\n",
        "# remove nose char for consistency\n",
        "# remove all html markup\n",
        "def preprocessor(text):\n",
        "    text = re.sub('<[^>]*>', '', text)\n",
        "    emoticons = re.findall('(?::|;|=)(?:-)?(?:\\)|\\(|D|P)', text) # findall the emoticons\n",
        "    text = (re.sub('[\\W]+', ' ', text.lower()) +\n",
        "            ' '.join(emoticons).replace('-', ''))\n",
        "    return text"
      ],
      "execution_count": null,
      "outputs": []
    },
    {
      "cell_type": "code",
      "metadata": {
        "id": "s0RpeehNkO4r"
      },
      "source": [
        "# Read data from file\n",
        "data_file = \"https://raw.githubusercontent.com/nirmalie/CM4107/main/movie_data_cat.csv\"\n",
        "df = pd.read_csv(data_file,  encoding='utf-8')\n",
        "\n",
        "#or upload file here and read\n",
        "# df = pd.read_csv('movie_data_cat.csv', encoding='utf-8')"
      ],
      "execution_count": null,
      "outputs": []
    },
    {
      "cell_type": "code",
      "metadata": {
        "id": "H24sqNN0lYFv"
      },
      "source": [
        "df.columns"
      ],
      "execution_count": null,
      "outputs": []
    },
    {
      "cell_type": "code",
      "metadata": {
        "id": "QMQdFwhXlaXz"
      },
      "source": [
        "df.shape"
      ],
      "execution_count": null,
      "outputs": []
    },
    {
      "cell_type": "code",
      "metadata": {
        "id": "ItWtLC6Zr6sZ"
      },
      "source": [
        "class_mapping = {label:idx for idx,label in enumerate(np.unique(df['sentiment']))}\n",
        "\n",
        "#use the mapping dictionary to transform the class labels into integers\n",
        "df['sentiment'] = df['sentiment'].map(class_mapping)\n",
        "\n",
        "df['review'] = df['review'].apply(preprocessor)\n",
        "\n",
        "#make a train test split, we are using a smaller split here, but try the original split as well to compare performance later\n",
        "X_text_train = df.loc[:2500, 'review'].values\n",
        "Y_train = df.loc[:2500, 'sentiment'].values\n",
        "X_text_test = df.loc[2500:5000, 'review'].values\n",
        "Y_test = df.loc[2500:5000, 'sentiment'].values\n",
        "\n",
        "# convert class labels to binary class one-hot-encoded vectors\n",
        "y_train_ohe = to_categorical(Y_train, num_classes)\n",
        "y_test_ohe = to_categorical(Y_test, num_classes)"
      ],
      "execution_count": null,
      "outputs": []
    },
    {
      "cell_type": "code",
      "metadata": {
        "id": "MaRDv_Ugr6sa"
      },
      "source": [
        "print(X_text_train[0])"
      ],
      "execution_count": null,
      "outputs": []
    },
    {
      "cell_type": "markdown",
      "metadata": {
        "id": "AEVTzuH5r6sa"
      },
      "source": [
        "### How do we convert the text to a format suited to keras CNN input?"
      ]
    },
    {
      "cell_type": "code",
      "metadata": {
        "scrolled": true,
        "id": "xXUqvSIgr6sa"
      },
      "source": [
        "from keras.preprocessing.text import Tokenizer\n",
        "# create the tokenizer\n",
        "tokeniser = Tokenizer(num_words=5000)\n",
        "\n",
        "# fit the tokenizer on the documents\n",
        "tokeniser.fit_on_texts(X_text_train)\n",
        "\n",
        "# summarize what was learned\n",
        "print(tokeniser.word_counts)\n",
        "print(tokeniser.word_index)\n",
        "print(tokeniser.word_docs)\n",
        "print('Num of training documents', tokeniser.document_count)\n",
        "\n",
        "\n",
        "# integer encode documents\n",
        "X_encoded_train = tokeniser.texts_to_sequences(X_text_train)\n",
        "train_vocab_size = len(tokeniser.word_index) + 1 # Adding 1 because of reserved 0 index\n",
        "\n",
        "X_encoded_test = tokeniser.texts_to_sequences(X_text_test)\n",
        "test_vocab_size = len(tokeniser.word_index) + 1 # Adding 1 because of reserved 0 index\n",
        "\n",
        "print ('train vocabulary size:', train_vocab_size)\n",
        "print ('test vocabulary size:', test_vocab_size)\n"
      ],
      "execution_count": null,
      "outputs": []
    },
    {
      "cell_type": "code",
      "metadata": {
        "id": "fMX9yrEzn0gE"
      },
      "source": [
        "maxlen = 400"
      ],
      "execution_count": null,
      "outputs": []
    },
    {
      "cell_type": "code",
      "metadata": {
        "id": "AL38KtPar6sa"
      },
      "source": [
        "# NOTE: padding is not needed when using tfidf sparce representations\n",
        "print('Pad sequences (samples x time)')\n",
        "X_train = sequence.pad_sequences(X_encoded_train, maxlen=maxlen)\n",
        "X_test = sequence.pad_sequences(X_encoded_test, maxlen=maxlen)\n",
        "\n",
        "#Print the data's shape (i.e. the size of each dimension) to check this is done correctly.\n",
        "print('x_train shape:', X_train.shape)\n",
        "print('x_test shape:', X_test.shape)\n",
        "print('After padding the example looks:')\n",
        "print(X_train[0])\n",
        "print(len(X_train[0]))"
      ],
      "execution_count": null,
      "outputs": []
    },
    {
      "cell_type": "markdown",
      "metadata": {
        "id": "sj85fw3Cr6sb"
      },
      "source": [
        "Now that the input is in the same format as we had when we loaded it directly from Keras; we can now use this as input into a CNN.\n",
        "This means that you can now compare the models on text classification with the CNN model using similar text pre-processing steps.\n",
        "\n",
        "Use the X_train and X_test together with the y_train_ohe and y_test_ohe to create a CNN model.\n",
        "Once created get a summary, then compile and evaluate."
      ]
    },
    {
      "cell_type": "code",
      "metadata": {
        "id": "CDpu7ahTpRgB"
      },
      "source": [
        "def create_model(max_features = 1000, embedding_dims = 50,  maxlen = 400):\n",
        "    #Firstly, instantiate a sequential model\n",
        "    model = Sequential()\n",
        "    model.add(Embedding(max_features, embedding_dims, input_length=maxlen))\n",
        "    model.add(Conv1D(256, 3, padding='valid', activation='relu', strides=1))\n",
        "    model.add(BatchNormalization())\n",
        "    model.add(GlobalMaxPooling1D())\n",
        "    model.add(Dense(128, activation='relu'))\n",
        "    model.add(BatchNormalization())\n",
        "    model.add(Dense(num_classes, activation='softmax'))\n",
        "    return model"
      ],
      "execution_count": null,
      "outputs": []
    },
    {
      "cell_type": "code",
      "source": [
        "cnn = create_model(maxlen = maxlen)"
      ],
      "metadata": {
        "id": "asrZB-Jt0b9o"
      },
      "execution_count": null,
      "outputs": []
    },
    {
      "cell_type": "code",
      "source": [
        "cnn.summary()"
      ],
      "metadata": {
        "id": "hUtIV_LO0gV_"
      },
      "execution_count": null,
      "outputs": []
    },
    {
      "cell_type": "code",
      "source": [
        "cnn.compile(loss = 'binary_crossentropy',  optimizer ='adam', metrics = ['accuracy'])"
      ],
      "metadata": {
        "id": "ypPcp7j20l0a"
      },
      "execution_count": null,
      "outputs": []
    },
    {
      "cell_type": "code",
      "source": [
        "history = cnn.fit(X_train, y_train_ohe,\n",
        "        #The identify the batch size\n",
        "        batch_size = batch_size,\n",
        "        #Specify your epochs\n",
        "        epochs = 10,\n",
        "        #And identify your test data (remember to put brackets around both x_test and y_test)\n",
        "        validation_data = (X_test, y_test_ohe))"
      ],
      "metadata": {
        "id": "HgrP6oV80uc_"
      },
      "execution_count": null,
      "outputs": []
    },
    {
      "cell_type": "code",
      "source": [
        "score = cnn.evaluate(X_test, y_test_ohe, verbose=False)\n",
        "print(\"Testing Accuracy:  {:.4f}\".format(score[1]))"
      ],
      "metadata": {
        "id": "_pQ8xbwQ06my"
      },
      "execution_count": null,
      "outputs": []
    }
  ]
}